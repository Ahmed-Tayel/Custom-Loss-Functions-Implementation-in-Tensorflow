{
  "nbformat": 4,
  "nbformat_minor": 0,
  "metadata": {
    "colab": {
      "name": "On_Loss__Functions_Classification_V2",
      "provenance": [],
      "collapsed_sections": [
        "R6DMvR8TzJiK",
        "egL15iQztTDH",
        "k6bNy-J9u-l6"
      ],
      "toc_visible": true
    },
    "kernelspec": {
      "name": "python3",
      "display_name": "Python 3"
    },
    "accelerator": "GPU"
  },
  "cells": [
    {
      "cell_type": "markdown",
      "metadata": {
        "id": "eDEJU1RwoIlv"
      },
      "source": [
        "##Import"
      ]
    },
    {
      "cell_type": "code",
      "metadata": {
        "id": "BSKuPnIXNoq2",
        "colab": {
          "base_uri": "https://localhost:8080/"
        },
        "outputId": "60eb8bef-ec1c-424b-f297-e70c6cf74b8b"
      },
      "source": [
        "import numpy as np\n",
        "import tensorflow as tf\n",
        "import keras\n",
        "from keras.datasets import mnist\n",
        "from tensorflow.keras.utils import to_categorical\n",
        "\n",
        "print(\"Tensorflow version \", tf.__version__)\n",
        "\n",
        "device_name = tf.test.gpu_device_name()\n",
        "if device_name != '/device:GPU:0':\n",
        "  print('GPU device not found')\n",
        "print('Found GPU at: ', device_name)"
      ],
      "execution_count": 7,
      "outputs": [
        {
          "output_type": "stream",
          "name": "stdout",
          "text": [
            "Tensorflow version  2.6.0\n",
            "Found GPU at:  /device:GPU:0\n"
          ]
        }
      ]
    },
    {
      "cell_type": "markdown",
      "metadata": {
        "id": "KaeLRpWIfO1m"
      },
      "source": [
        "## Load data\n",
        "\n",
        "Load training data from Keras library\n",
        "\n",
        "\n"
      ]
    },
    {
      "cell_type": "markdown",
      "metadata": {
        "id": "zpt_UTZEi5Uv"
      },
      "source": [
        "### MNIST"
      ]
    },
    {
      "cell_type": "code",
      "metadata": {
        "id": "7kECuF5cgxxW",
        "colab": {
          "base_uri": "https://localhost:8080/"
        },
        "outputId": "65915ac9-c06e-400b-ade0-fcec7c376175"
      },
      "source": [
        "def load_data_MNIST():\n",
        "    # load data\n",
        "    (Xtrain,Ytrain), (Xtest, Ytest) = mnist.load_data()\n",
        "\n",
        "    # get information\n",
        "    ninput = Xtrain.shape[0]\n",
        "    imgsize = (Xtrain.shape[1], Xtrain.shape[2])\n",
        "    input_shape = (Xtrain.shape[1], Xtrain.shape[2], 1)\n",
        "    ntest = Xtest.shape[0]\n",
        "    num_classes = max(Ytrain) + 1\n",
        "    print(\"Training input: \" , Xtrain.shape)\n",
        "    print(\"Training output: \" , Ytrain.shape)\n",
        "    print(\"Test input: \"  , Xtest.shape)\n",
        "    print(\"Test output: \" , Ytest.shape)\n",
        "    print(\"Input shape: \" , input_shape)\n",
        "    print(\"Number of classes: \" , num_classes)\n",
        "\n",
        "    # normalize input to [0,1]\n",
        "    Xtrain = Xtrain / 255.0\n",
        "    Xtest = Xtest / 255.0\n",
        "    # reshape input in 4D array\n",
        "    Xtrain = Xtrain.reshape(ninput,imgsize[0],imgsize[1],1)\n",
        "    Xtest = Xtest.reshape(ntest,imgsize[0],imgsize[1],1)\n",
        "    \n",
        "    # Transform output to one hot encoding\n",
        "    Ytrain = to_categorical(Ytrain, num_classes)\n",
        "    Ytest = to_categorical(Ytest, num_classes)\n",
        "    \n",
        "    return [Xtrain,Ytrain,Xtest,Ytest,input_shape,num_classes]\n",
        "\n",
        "[Xtrain_mnist,Ytrain_mnist,Xtest_mnist,Ytest_mnist,input_shape_mnist,num_classes_mnist] = load_data_MNIST()"
      ],
      "execution_count": 8,
      "outputs": [
        {
          "output_type": "stream",
          "name": "stdout",
          "text": [
            "Training input:  (60000, 28, 28)\n",
            "Training output:  (60000,)\n",
            "Test input:  (10000, 28, 28)\n",
            "Test output:  (10000,)\n",
            "Input shape:  (28, 28, 1)\n",
            "Number of classes:  10\n"
          ]
        }
      ]
    },
    {
      "cell_type": "markdown",
      "metadata": {
        "id": "5OnoMmKmfMEY"
      },
      "source": [
        "#### Show random image\n",
        "\n"
      ]
    },
    {
      "cell_type": "code",
      "metadata": {
        "colab": {
          "base_uri": "https://localhost:8080/",
          "height": 282
        },
        "id": "NsTOUlIlfMEY",
        "outputId": "48f66b18-7f92-46ad-942d-455daf33b1ad"
      },
      "source": [
        "import matplotlib.pyplot as plt\n",
        "import random\n",
        "\n",
        "i = random.randrange(0,Xtrain_mnist.shape[0])\n",
        "image = Xtrain_mnist[i]\n",
        "image = np.array(image, dtype='float')\n",
        "pixels = image.reshape((28, 28))\n",
        "\n",
        "label = Ytrain_mnist[i].argmax()  # categorical from one-hot-encoding\n",
        "print(label)\n",
        "\n",
        "plt.imshow(pixels, cmap='gray')\n",
        "plt.show()\n"
      ],
      "execution_count": 9,
      "outputs": [
        {
          "output_type": "stream",
          "name": "stdout",
          "text": [
            "4\n"
          ]
        },
        {
          "output_type": "display_data",
          "data": {
            "image/png": "[encoded data removed]",
            "text/plain": [
              "<Figure size 432x288 with 1 Axes>"
            ]
          },
          "metadata": {
            "needs_background": "light"
          }
        }
      ]
    },
    {
      "cell_type": "markdown",
      "metadata": {
        "id": "bV3gt6OHdlcX"
      },
      "source": [
        "### CIFAR 10"
      ]
    },
    {
      "cell_type": "code",
      "metadata": {
        "colab": {
          "base_uri": "https://localhost:8080/"
        },
        "id": "9dUe0X_rTc-Z",
        "outputId": "d4e318af-498e-486d-b284-7ffc4496faf5"
      },
      "source": [
        "def load_data_CIFAR10():\n",
        "    # load data\n",
        "    (Xtrain,Ytrain), (Xtest, Ytest) = keras.datasets.cifar10.load_data()\n",
        "\n",
        "    # get information\n",
        "    ninput = Xtrain.shape[0]\n",
        "    imgsize = (Xtrain.shape[1], Xtrain.shape[2])\n",
        "    input_shape = (Xtrain.shape[1], Xtrain.shape[2], Xtrain.shape[3])\n",
        "    ntest = Xtest.shape[0]\n",
        "    num_classes = 10\n",
        "    print(\"Training input: \" , Xtrain.shape)\n",
        "    print(\"Training output: \" , Ytrain.shape)\n",
        "    print(\"Test input: \"  , Xtest.shape)\n",
        "    print(\"Test output: \" , Ytest.shape)\n",
        "    print(\"Input shape: \" , input_shape)\n",
        "    print(\"Number of classes: \" , num_classes)\n",
        "\n",
        "    # normalize input to [0,1]\n",
        "    Xtrain = Xtrain / 255.0\n",
        "    Xtest = Xtest / 255.0\n",
        "    # reshape input in 4D array\n",
        "    Xtrain = Xtrain.reshape(ninput,imgsize[0],imgsize[1],3)\n",
        "    Xtest = Xtest.reshape(ntest,imgsize[0],imgsize[1],3)\n",
        "    \n",
        "    # Transform output to one-out-of-n encoding\n",
        "    Ytrain = to_categorical(Ytrain.tolist()[:], num_classes)\n",
        "    Ytest = to_categorical(Ytest.tolist()[:], num_classes)\n",
        "    \n",
        "    return [Xtrain,Ytrain,Xtest,Ytest,input_shape,num_classes]\n",
        "\n",
        "[Xtrain_cifar10,Ytrain_cifar10,Xtest_cifar10,Ytest_cifar10,input_shape_cifar10,num_classes_cifar10] = load_data_CIFAR10()"
      ],
      "execution_count": 10,
      "outputs": [
        {
          "output_type": "stream",
          "name": "stdout",
          "text": [
            "Training input:  (50000, 32, 32, 3)\n",
            "Training output:  (50000, 1)\n",
            "Test input:  (10000, 32, 32, 3)\n",
            "Test output:  (10000, 1)\n",
            "Input shape:  (32, 32, 3)\n",
            "Number of classes:  10\n"
          ]
        }
      ]
    },
    {
      "cell_type": "markdown",
      "metadata": {
        "id": "R6DMvR8TzJiK"
      },
      "source": [
        "#### Show random image\n",
        "\n"
      ]
    },
    {
      "cell_type": "code",
      "metadata": {
        "id": "P0N3cUSazRcJ",
        "colab": {
          "base_uri": "https://localhost:8080/",
          "height": 283
        },
        "outputId": "306a2df3-b8e5-4b90-c771-9f16a16d3424"
      },
      "source": [
        "import matplotlib.pyplot as plt\n",
        "import random\n",
        "\n",
        "i = random.randrange(0,Xtrain_cifar10.shape[0])\n",
        "image = Xtrain_cifar10[i]\n",
        "image = np.array(image, dtype='float')\n",
        "pixels = image.reshape((32, 32, 3))\n",
        "\n",
        "label = Ytrain_cifar10[i].argmax()  # categorical from one-hot-encoding\n",
        "print(label)\n",
        "\n",
        "plt.imshow(image)\n",
        "plt.show()\n"
      ],
      "execution_count": 11,
      "outputs": [
        {
          "output_type": "stream",
          "name": "stdout",
          "text": [
            "8\n"
          ]
        },
        {
          "output_type": "display_data",
          "data": {
            "image/png": "[encoded data removed]",
            "text/plain": [
              "<Figure size 432x288 with 1 Axes>"
            ]
          },
          "metadata": {
            "needs_background": "light"
          }
        }
      ]
    },
    {
      "cell_type": "markdown",
      "metadata": {
        "id": "fMqTLBFjBuqZ"
      },
      "source": [
        "## Custom Softmax Loss Function"
      ]
    },
    {
      "cell_type": "markdown",
      "metadata": {
        "id": "q87h8pkTHQhs"
      },
      "source": [
        "### 1) L1 Loss"
      ]
    },
    {
      "cell_type": "code",
      "metadata": {
        "id": "E-G9MTs1R_go"
      },
      "source": [
        "@tf.function\n",
        "def l1_loss(y_true, y_pred):\n",
        "  L1_loss_calc = tf.reduce_sum(tf.abs(tf.subtract(y_true, y_pred)) ,axis = 1, keepdims=True)\n",
        "  return tf.divide(tf.reduce_sum(L1_loss_calc),L1_loss_calc.shape[0])"
      ],
      "execution_count": 12,
      "outputs": []
    },
    {
      "cell_type": "markdown",
      "metadata": {
        "id": "3qf4rBcnHQ6c"
      },
      "source": [
        "### 2) L2 Loss"
      ]
    },
    {
      "cell_type": "code",
      "metadata": {
        "id": "iZxx1dZBULna"
      },
      "source": [
        "@tf.function\n",
        "def l2_loss(y_true, y_pred):\n",
        "  L2_loss = tf.norm(tf.subtract(y_true, y_pred), axis= 1) ** 2\n",
        "  return tf.divide(tf.reduce_sum(L2_loss),L2_loss.shape[0])"
      ],
      "execution_count": 13,
      "outputs": []
    },
    {
      "cell_type": "markdown",
      "metadata": {
        "id": "-4p5q_wqHRLE"
      },
      "source": [
        "### 3) Expectation Loss"
      ]
    },
    {
      "cell_type": "code",
      "metadata": {
        "id": "gWpp7VHaWDIa"
      },
      "source": [
        "@tf.function\n",
        "def expectation_loss(y_true, y_pred):\n",
        "  # Apply Softmax\n",
        "  y_pred_sum = tf.reduce_sum(y_pred,axis = 1, keepdims=True)\n",
        "  y_pred_ratio = tf.divide(y_pred,y_pred_sum)\n",
        "  # Apply L1 loss\n",
        "  L1_loss = tf.reduce_sum(tf.abs(tf.subtract(y_true, y_pred_ratio)) ,axis = 1, keepdims=True)\n",
        "  return tf.divide(tf.reduce_sum(L1_loss),L1_loss.shape[0])"
      ],
      "execution_count": 14,
      "outputs": []
    },
    {
      "cell_type": "markdown",
      "metadata": {
        "id": "i4D6xaj5HRb0"
      },
      "source": [
        "### 4) Regularised Expectation Loss"
      ]
    },
    {
      "cell_type": "code",
      "metadata": {
        "id": "E187yvJpWglu"
      },
      "source": [
        "@tf.function\n",
        "def regularized_expectation_loss(y_true, y_pred):\n",
        "  # Apply Softmax\n",
        "  y_pred_sum = tf.reduce_sum(y_pred,axis = 1, keepdims=True)\n",
        "  y_pred_ratio = tf.divide(y_pred,y_pred_sum)\n",
        "  # Apply L2 loss\n",
        "  L2_loss = tf.norm(tf.subtract(y_true, y_pred_ratio), axis= 1) ** 2\n",
        "  return tf.divide(tf.reduce_sum(L2_loss),L2_loss.shape[0])"
      ],
      "execution_count": 15,
      "outputs": []
    },
    {
      "cell_type": "markdown",
      "metadata": {
        "id": "mx-DvcoVHRqM"
      },
      "source": [
        "### 5) Chebyshev loss"
      ]
    },
    {
      "cell_type": "code",
      "metadata": {
        "id": "IfC8XCUWXmzH"
      },
      "source": [
        "@tf.function\n",
        "def chebyshev_loss(y_true, y_pred):\n",
        "  # Apply Softmax\n",
        "  y_pred_sum = tf.reduce_sum(y_pred,axis = 1, keepdims=True)\n",
        "  y_pred_ratio = tf.divide(y_pred,y_pred_sum)\n",
        "  # Apply cheb loss\n",
        "  cheb_loss = tf.reduce_max(tf.abs(tf.subtract(y_true, y_pred_ratio)) ,axis = 1, keepdims=True)\n",
        "  return tf.divide(tf.reduce_sum(cheb_loss),cheb_loss.shape[0])"
      ],
      "execution_count": 16,
      "outputs": []
    },
    {
      "cell_type": "markdown",
      "metadata": {
        "id": "COu8alqmHR40"
      },
      "source": [
        "### 6) hinge (margin) loss"
      ]
    },
    {
      "cell_type": "code",
      "metadata": {
        "id": "4Zu9UZlha3kw"
      },
      "source": [
        "@tf.function\n",
        "def hinge_loss(y_true, y_pred):\n",
        "  y_product = tf.math.multiply(y_true,y_pred)\n",
        "  max_second_arg = tf.constant(0.5) - y_product\n",
        "  max_compare = tf.math.maximum(tf.constant(0.0), max_second_arg)\n",
        "\n",
        "  y_product_red = tf.reduce_sum(max_compare,axis = 1, keepdims=True)\n",
        "  y_product_red_abs = tf.abs(y_product_red)\n",
        "\n",
        "  return tf.divide(tf.reduce_sum(y_product_red_abs),y_product_red_abs.shape[0])"
      ],
      "execution_count": 17,
      "outputs": []
    },
    {
      "cell_type": "markdown",
      "metadata": {
        "id": "eRihKwpcHSLs"
      },
      "source": [
        "### 7) Squared hinge (margin) loss"
      ]
    },
    {
      "cell_type": "code",
      "metadata": {
        "id": "iZH0Gu5pdwQL"
      },
      "source": [
        "@tf.function\n",
        "def squared_hinge_loss(y_true, y_pred):\n",
        "  y_product = tf.math.multiply(y_true,y_pred)\n",
        "  max_second_arg = tf.constant(0.5) - y_product\n",
        "  max_compare = tf.math.maximum(tf.constant(0.0), max_second_arg) ** 2\n",
        "\n",
        "  y_product_red = tf.reduce_sum(max_compare,axis = 1, keepdims=True)\n",
        "  y_product_red_abs = tf.abs(y_product_red)\n",
        "\n",
        "  return tf.divide(tf.reduce_sum(y_product_red_abs),y_product_red_abs.shape[0])"
      ],
      "execution_count": 18,
      "outputs": []
    },
    {
      "cell_type": "markdown",
      "metadata": {
        "id": "kQeGyp0UHSzl"
      },
      "source": [
        "### 8) Cubed hinge (margin) loss"
      ]
    },
    {
      "cell_type": "code",
      "metadata": {
        "id": "sCsSblN0eF8Z"
      },
      "source": [
        "@tf.function\n",
        "def cubed_hinge_loss(y_true, y_pred):\n",
        "  y_product = tf.math.multiply(y_true,y_pred)\n",
        "  max_second_arg = tf.constant(0.5) - y_product\n",
        "  max_compare = tf.math.maximum(tf.constant(0.0), max_second_arg) ** 3\n",
        "\n",
        "  y_product_red = tf.reduce_sum(max_compare,axis = 1, keepdims=True)\n",
        "  y_product_red_abs = tf.abs(y_product_red)\n",
        "\n",
        "  return tf.divide(tf.reduce_sum(y_product_red_abs),y_product_red_abs.shape[0])"
      ],
      "execution_count": 19,
      "outputs": []
    },
    {
      "cell_type": "markdown",
      "metadata": {
        "id": "MMAnvK6P-Ure"
      },
      "source": [
        "### 9) Log (cross entropy) loss"
      ]
    },
    {
      "cell_type": "code",
      "metadata": {
        "id": "I4pNIAtzeF7B"
      },
      "source": [
        "@tf.function\n",
        "def cross_entropy_loss(y_true, y_pred):\n",
        "  # Apply Softmax\n",
        "  y_pred_sum = tf.reduce_sum(y_pred,axis = 1, keepdims=True)\n",
        "  y_pred_ratio = tf.divide(y_pred,y_pred_sum)\n",
        "\n",
        "  # Apply Cross Entropy\n",
        "  #y_pred[sample][i] = tf.math.log(y_pred[sample][i])\n",
        "  y_log = tf.math.log(y_pred_ratio)\n",
        "  y_product = tf.math.multiply(y_true,y_log)\n",
        "  y_product_red = tf.reduce_sum(y_product,axis = 1, keepdims=True)\n",
        "  y_product_red_abs = tf.abs(y_product_red)\n",
        "\n",
        "  return tf.divide(tf.reduce_sum(y_product_red_abs),y_product_red_abs.shape[0])"
      ],
      "execution_count": 20,
      "outputs": []
    },
    {
      "cell_type": "markdown",
      "metadata": {
        "id": "HP1Zdj2J-vaO"
      },
      "source": [
        "### 10) Squared log loss"
      ]
    },
    {
      "cell_type": "code",
      "metadata": {
        "id": "k6Eofr1c--NM"
      },
      "source": [
        "@tf.function\n",
        "def squared_log_loss(y_true, y_pred):\n",
        "  # Apply Softmax\n",
        "  y_pred_sum = tf.reduce_sum(y_pred,axis = 1, keepdims=True)\n",
        "  y_pred_ratio = tf.divide(y_pred,y_pred_sum)\n",
        "\n",
        "  # Apply Cross Entropy\n",
        "  #y_pred[sample][i] = tf.math.log(y_pred[sample][i])\n",
        "  y_log = tf.math.log(y_pred_ratio)\n",
        "  y_square_product = tf.math.square(tf.math.multiply(y_true,y_log))\n",
        "  y_product_red = tf.reduce_sum(y_square_product,axis = 1, keepdims=True)\n",
        "  y_product_red_abs = tf.abs(y_product_red)\n",
        "\n",
        "  return tf.divide(tf.reduce_sum(y_product_red_abs),y_product_red_abs.shape[0])"
      ],
      "execution_count": 21,
      "outputs": []
    },
    {
      "cell_type": "markdown",
      "metadata": {
        "id": "PVvhgY-lIGQ4"
      },
      "source": [
        "### 11) Tanimoto loss"
      ]
    },
    {
      "cell_type": "code",
      "metadata": {
        "id": "X-knSprLjKM4"
      },
      "source": [
        "@tf.function\n",
        "def tanimoto_loss(y_true, y_pred):\n",
        "  # Apply Softmax\n",
        "  y_pred_sum = tf.reduce_sum(y_pred,axis = 1, keepdims=True)\n",
        "  y_pred_ratio = tf.divide(y_pred,y_pred_sum)\n",
        "\n",
        "  # Apply Cross Entropy (Numerator Part)\n",
        "  y_product = tf.math.multiply(y_true,y_pred_ratio)\n",
        "  y_product_red = tf.reduce_sum(y_product,axis = 1, keepdims=True)\n",
        "  y_product_red_abs = tf.abs(y_product_red)\n",
        "\n",
        "  true_label_norm = tf.reshape(tf.norm(y_true, axis=1) ** 2, [y_pred.shape[0],1])\n",
        "  predicted_prob_norm = tf.reshape(tf.norm(y_pred_ratio, axis=1) ** 2, [y_pred.shape[0],1])\n",
        "  denominator_sum = predicted_prob_norm + true_label_norm - y_product_red_abs\n",
        "\n",
        "  tanimoto_loss_eq = tf.divide(y_product_red_abs,tf.abs(denominator_sum))\n",
        "\n",
        "  return tf.divide(tf.reduce_sum(tanimoto_loss_eq),tanimoto_loss_eq.shape[0])"
      ],
      "execution_count": 22,
      "outputs": []
    },
    {
      "cell_type": "markdown",
      "metadata": {
        "id": "PJFH263iIN9E"
      },
      "source": [
        "### 12) Cauchy-Schwarz Divergence"
      ]
    },
    {
      "cell_type": "code",
      "metadata": {
        "id": "ad7A3LIBjKzj"
      },
      "source": [
        "@tf.function\n",
        "def cauchy_schwarz_divergence(y_true, y_pred):\n",
        "  # Apply Softmax\n",
        "  y_pred_sum = tf.reduce_sum(y_pred,axis = 1, keepdims=True)\n",
        "  y_pred_ratio = tf.divide(y_pred,y_pred_sum)\n",
        "\n",
        "  # Apply Cross Entropy (Numerator Part)\n",
        "  y_product = tf.math.multiply(y_true,y_pred_ratio)\n",
        "  y_product_red = tf.reduce_sum(y_product,axis = 1, keepdims=True)\n",
        "  y_product_red_abs = tf.abs(y_product_red)\n",
        "\n",
        "  true_label_norm = tf.reshape(tf.norm(y_true, axis=1), [y_pred.shape[0],1])\n",
        "  predicted_prob_norm = tf.reshape(tf.norm(y_pred_ratio, axis=1), [y_pred.shape[0],1])\n",
        "  denominator_product = tf.math.multiply(predicted_prob_norm, true_label_norm)\n",
        "\n",
        "  cauchy_schwarz_eq = tf.abs(tf.math.log(tf.divide(y_product_red_abs,denominator_product)))\n",
        "\n",
        "  return tf.divide(tf.reduce_sum(cauchy_schwarz_eq),cauchy_schwarz_eq.shape[0])"
      ],
      "execution_count": 23,
      "outputs": []
    },
    {
      "cell_type": "markdown",
      "metadata": {
        "id": "q1EwWO9m3bGg"
      },
      "source": [
        "## NN Sequential Models\n"
      ]
    },
    {
      "cell_type": "code",
      "metadata": {
        "id": "lv0Pvvuyzy59"
      },
      "source": [
        "def noise_app(y_train, percentage):\n",
        "  y_train_noisy = np.copy(y_train)\n",
        "  samples_size = int(percentage * len(y_train_noisy))\n",
        "  random_samples = np.random.choice(len(y_train_noisy), size=samples_size, replace=False)\n",
        "  b = y_train[random_samples]\n",
        "  np.random.shuffle(b)\n",
        "  y_train_noisy[random_samples] = b\n",
        "  return y_train_noisy"
      ],
      "execution_count": 24,
      "outputs": []
    },
    {
      "cell_type": "code",
      "metadata": {
        "id": "1RpFnjhTeHEa",
        "colab": {
          "base_uri": "https://localhost:8080/"
        },
        "outputId": "8d7af4f6-3225-490c-894e-8076d609de69"
      },
      "source": [
        "from keras.models import Sequential\n",
        "from keras.layers import Dense, Activation, Dropout, Flatten,\\\n",
        "                         Conv2D, MaxPooling2D, AveragePooling2D\n",
        "#from keras.layers.normalization import BatchNormalization\n",
        "from keras import regularizers\n",
        "#from keras.optimizers import Adam\n",
        "from keras.losses import categorical_crossentropy\n",
        "\n",
        "##########################################\n",
        "##########################################\n",
        "####### STUDY CONFIGURATIONS\n",
        "##########################################\n",
        "##########################################\n",
        "current_model = 'cifar10'\n",
        "apply_noise = True\n",
        "\n",
        "# Model Parameters\n",
        "optimizer = tf.keras.optimizers.Adam(learning_rate=0.00003)\n",
        "num_of_classes = 10\n",
        "if current_model == 'cifar10':\n",
        "  #epochs = 100000\n",
        "  #batch_size = 100\n",
        "  epochs = 50\n",
        "  batch_size = 100\n",
        "  input_shape = input_shape_cifar10\n",
        "  Xtrain = Xtrain_cifar10\n",
        "  Ytrain = Ytrain_cifar10\n",
        "  Xtest = Xtest_cifar10\n",
        "  Ytest = Ytest_cifar10\n",
        "\n",
        "elif current_model == 'mnist':\n",
        "  #epochs = 100000\n",
        "  #batch_size = 100\n",
        "  epochs = 50\n",
        "  batch_size = 100\n",
        "  input_shape = input_shape_mnist\n",
        "  Xtrain = Xtrain_mnist\n",
        "  Ytrain = Ytrain_mnist\n",
        "  Xtest = Xtest_mnist\n",
        "  Ytest = Ytest_mnist\n",
        "\n",
        "print(\"Model Selected: \", current_model)\n",
        "print(\"epochs: \", epochs)\n",
        "print(\"batch_size: \", batch_size)\n",
        "print(\"input_shape: \", input_shape)"
      ],
      "execution_count": 25,
      "outputs": [
        {
          "output_type": "stream",
          "name": "stdout",
          "text": [
            "Model Selected:  cifar10\n",
            "epochs:  50\n",
            "batch_size:  100\n",
            "input_shape:  (32, 32, 3)\n"
          ]
        }
      ]
    },
    {
      "cell_type": "markdown",
      "metadata": {
        "id": "F8BD4yCbejjl"
      },
      "source": [
        "### MNIST Model"
      ]
    },
    {
      "cell_type": "code",
      "metadata": {
        "id": "ql9ALLlKJJyQ"
      },
      "source": [
        "def MNIST_Model(input_shape):\n",
        "  print('MNIST model')\n",
        "  num_classes = 10\n",
        "  model = Sequential()\n",
        "\n",
        "  model.add(Flatten(input_shape= input_shape))\n",
        "  model.add(Dense(512, activation='relu'))\n",
        "  model.add(Dropout(0.5))\n",
        "  model.add(Dense(512, activation='relu'))\n",
        "  model.add(Dropout(0.5))\n",
        "  model.add(Dense(512, activation='relu'))\n",
        "  model.add(Dropout(0.5))\n",
        "  model.add(Dense(512, activation='relu'))\n",
        "  model.add(Dropout(0.5))\n",
        "  model.add(Dense(512, activation='relu'))\n",
        "  model.add(Dropout(0.5))\n",
        "\n",
        "  model.add(Dense(num_classes, activation='softmax'))\n",
        "\n",
        "  return model"
      ],
      "execution_count": 26,
      "outputs": []
    },
    {
      "cell_type": "markdown",
      "metadata": {
        "id": "qZg0LRFueoo7"
      },
      "source": [
        "### CIFAR10 Model"
      ]
    },
    {
      "cell_type": "code",
      "metadata": {
        "id": "JeNdWMyBNVUj"
      },
      "source": [
        "def CIFAR10_Model(input_shape):\n",
        "    \n",
        "    print('CIFAR 10 model')\n",
        "    num_classes = 10\n",
        "    model = Sequential()\n",
        "    \n",
        "    model.add(Conv2D(64, kernel_size=(5, 5), strides=(1, 1), activation='relu', input_shape=input_shape, padding='same'))\n",
        "    model.add(MaxPooling2D(pool_size=(3, 3), strides=(2, 2), padding='valid'))\n",
        "    model.add(Conv2D(64, kernel_size=(5, 5), strides=(1, 1), activation='relu', padding='same'))\n",
        "    model.add(AveragePooling2D(pool_size=(3, 3), strides=(2, 2), padding='valid'))\n",
        "    model.add(Conv2D(64, kernel_size=(5, 5), strides=(1, 1), activation='relu', padding='same'))\n",
        "    model.add(AveragePooling2D(pool_size=(3, 3), strides=(2, 2), padding='valid'))\n",
        "    model.add(Flatten())\n",
        "    model.add(Dense(128, activation='relu'))\n",
        "    model.add(Dense(num_classes, activation='softmax'))\n",
        "\n",
        "    return model"
      ],
      "execution_count": 27,
      "outputs": []
    },
    {
      "cell_type": "markdown",
      "metadata": {
        "id": "OW5Zd53JezRS"
      },
      "source": [
        "### Loss Function Assignment"
      ]
    },
    {
      "cell_type": "code",
      "metadata": {
        "id": "v_0gOxmq_maO"
      },
      "source": [
        "loss_functions_array = [l1_loss, l2_loss, expectation_loss, regularized_expectation_loss, chebyshev_loss, \\\n",
        "                        hinge_loss, squared_hinge_loss, cubed_hinge_loss, cross_entropy_loss, squared_log_loss, \\\n",
        "                        tanimoto_loss, cauchy_schwarz_divergence]\n",
        "loss_functions_array_names = ['l1_loss', 'l2_loss', 'expectation_loss', 'regularized_expectation_loss', 'chebyshev_loss', \\\n",
        "                        'hinge_loss', 'squared_hinge_loss', 'cubed_hinge_loss', 'cross_entropy_loss', 'squared_log_loss', \\\n",
        "                        'tanimoto_loss', 'cauchy_schwarz_divergence']"
      ],
      "execution_count": 28,
      "outputs": []
    },
    {
      "cell_type": "markdown",
      "metadata": {
        "id": "egL15iQztTDH"
      },
      "source": [
        "## Train"
      ]
    },
    {
      "cell_type": "code",
      "metadata": {
        "id": "EKOdDvgf5YlZ"
      },
      "source": [
        "history_arr = []\n",
        "noise_arr = []\n",
        "noise_percentages = [0.1, 0.2, 0.4, 0.5]\n",
        "\n",
        "if apply_noise:\n",
        "  print(\"Noise Study is Applied\")\n",
        "  for noise_per in noise_percentages:\n",
        "    print(\"Noise Percentage: \", noise_per)\n",
        "    y_train_noisy = noise_app(Ytrain, noise_per)\n",
        "    for loss_fun_index, loss_fun in enumerate(loss_functions_array):\n",
        "      print(\"Loss Function Applied:\" , loss_functions_array_names[loss_fun_index])\n",
        "      if current_model == 'cifar10':\n",
        "        model = CIFAR10_Model(input_shape)\n",
        "      elif current_model == 'mnist':\n",
        "        model = MNIST_Model(input_shape)\n",
        "      model.compile(loss=loss_fun, optimizer=optimizer, metrics=['accuracy'])\n",
        "      history = model.fit(Xtrain, y_train_noisy, batch_size=batch_size, epochs=epochs, validation_data = (Xtest,Ytest))\n",
        "      history_arr.append(history)\n",
        "    noise_arr.append(history_arr)\n",
        "    history_arr = []\n",
        "else:\n",
        "  print(\"Noise Study is NOT Applied\")\n",
        "  for loss_fun_index, loss_fun in enumerate(loss_functions_array):\n",
        "    print(\"Loss Function Applied:\" , loss_functions_array_names[loss_fun_index])\n",
        "    if current_model == 'cifar10':\n",
        "      model = CIFAR10_Model(input_shape)\n",
        "    elif current_model == 'mnist':\n",
        "      model = MNIST_Model(input_shape)\n",
        "    model.compile(loss=loss_fun, optimizer=optimizer, metrics=['accuracy'])\n",
        "    history = model.fit(Xtrain, Ytrain, batch_size=batch_size, epochs=epochs, validation_data = (Xtest,Ytest))\n",
        "    history_arr.append(history)"
      ],
      "execution_count": null,
      "outputs": []
    },
    {
      "cell_type": "markdown",
      "metadata": {
        "id": "k6bNy-J9u-l6"
      },
      "source": [
        "##Plot results"
      ]
    },
    {
      "cell_type": "code",
      "metadata": {
        "id": "nGcvKLXpvjDu"
      },
      "source": [
        "import matplotlib.pyplot as plt\n",
        "\n",
        "plot_width = 7\n",
        "plot_height = 6\n",
        "\n",
        "if apply_noise:\n",
        "  for noise_per_index in range(len(noise_percentages)):\n",
        "    \n",
        "    # summarize history for accuracy\n",
        "    plt.figure().set_figwidth(plot_width)\n",
        "    plt.figure().set_figheight(plot_height)\n",
        "    for history in noise_arr[noise_per_index]:\n",
        "      plt.plot(history.history['accuracy'])\n",
        "    if current_model == 'cifar10':\n",
        "      title_str = 'model accuracy CIFAR10 with noise: ' + str(noise_percentages[noise_per_index])\n",
        "      plt.title(title_str)\n",
        "    elif current_model == 'mnist':\n",
        "      title_str = 'model accuracy MNIST with noise: ' + str(noise_percentages[noise_per_index])\n",
        "      plt.title(title_str)\n",
        "    plt.ylabel('accuracy')\n",
        "    plt.xlabel('epoch')\n",
        "    plt.ylim(0.15, 0.4)\n",
        "    plt.legend(loss_functions_array_names, bbox_to_anchor=(1.6, 0), loc='lower right')\n",
        "    plt.show()\n",
        "\n",
        "    # summarize history for Test Accuracy\n",
        "    plt.figure().set_figwidth(plot_width)\n",
        "    plt.figure().set_figheight(plot_height)\n",
        "    for history in noise_arr[noise_per_index]:\n",
        "      plt.plot(history.history['val_accuracy'])\n",
        "    if current_model == 'cifar10':\n",
        "      title_str = 'model Test Accuracy CIFAR10 with noise: ' + str(noise_percentages[noise_per_index])\n",
        "      plt.title(title_str)\n",
        "    elif current_model == 'mnist':\n",
        "      title_str = 'model Test Accuracy MNIST with noise: ' + str(noise_percentages[noise_per_index])\n",
        "      plt.title(title_str)\n",
        "    plt.ylabel('Test Accuracy')\n",
        "    plt.xlabel('epoch')\n",
        "    plt.ylim(0.25, 0.65)\n",
        "    plt.legend(loss_functions_array_names, bbox_to_anchor=(1.6, 0), loc='lower right')\n",
        "    plt.show()\n",
        "\n",
        "else:\n",
        "  # summarize history for accuracy\n",
        "  plt.figure().set_figwidth(plot_width)\n",
        "  plt.figure().set_figheight(plot_height)\n",
        "  for history in history_arr:\n",
        "    plt.plot(history.history['accuracy'])\n",
        "  if current_model == 'cifar10':\n",
        "    plt.title('model accuracy CIFAR10')\n",
        "  elif current_model == 'mnist':\n",
        "    plt.title('model accuracy MNIST')\n",
        "  plt.ylabel('accuracy')\n",
        "  plt.xlabel('epoch')\n",
        "  plt.ylim(0.9, 1.0)\n",
        "  plt.legend(loss_functions_array_names, bbox_to_anchor=(1.6, 0), loc='lower right')\n",
        "  plt.show()\n",
        "\n",
        "  # summarize history for Test Accuracy\n",
        "  plt.figure().set_figwidth(plot_width)\n",
        "  plt.figure().set_figheight(plot_height)\n",
        "  for history in history_arr:\n",
        "    plt.plot(history.history['val_accuracy'])\n",
        "  if current_model == 'cifar10':\n",
        "    plt.title('model Test Accuracy CIFAR10')\n",
        "  elif current_model == 'mnist':\n",
        "    plt.title('model Test Accuracy MNIST')\n",
        "  plt.ylabel('Test Accuracy')\n",
        "  plt.xlabel('epoch')\n",
        "  plt.ylim(0.9, 1.0)\n",
        "  plt.legend(loss_functions_array_names, bbox_to_anchor=(1.6, 0), loc='lower right')\n",
        "  plt.show()"
      ],
      "execution_count": null,
      "outputs": []
    }
  ]
}